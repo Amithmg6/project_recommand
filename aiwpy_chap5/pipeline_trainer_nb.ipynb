{
 "cells": [
  {
   "cell_type": "markdown",
   "id": "fe80df77",
   "metadata": {},
   "source": [
    "## Pipeline trainer"
   ]
  },
  {
   "cell_type": "markdown",
   "metadata": {},
   "source": [
    "Designing a pipeline."
   ]
  },
  {
   "cell_type": "markdown",
   "id": "a559b8c5",
   "metadata": {},
   "source": []
  },
  {
   "cell_type": "code",
   "execution_count": 3,
   "id": "c326ddfd",
   "metadata": {},
   "outputs": [],
   "source": [
    "from sklearn.datasets import _samples_generator\n",
    "from sklearn.feature_selection import SelectKBest, f_regression\n",
    "from sklearn.pipeline import Pipeline\n",
    "from sklearn.ensemble import ExtraTreesClassifier\n"
   ]
  },
  {
   "cell_type": "code",
   "execution_count": 5,
   "id": "6af02653",
   "metadata": {},
   "outputs": [],
   "source": [
    "\n",
    "# Generate data \n",
    "X, y = _samples_generator.make_classification(\n",
    "    n_samples=150, \n",
    "    n_features=25, \n",
    "    n_classes=3, \n",
    "    n_informative=6, \n",
    "    n_redundant=0, \n",
    "    random_state=7)\n"
   ]
  },
  {
   "cell_type": "code",
   "execution_count": 6,
   "id": "2ad86a24",
   "metadata": {},
   "outputs": [],
   "source": [
    "\n",
    "# Select top K features \n",
    "k_best_selector = SelectKBest(f_regression, k=9)\n"
   ]
  },
  {
   "cell_type": "code",
   "execution_count": null,
   "id": "7dcb6cb6",
   "metadata": {},
   "outputs": [],
   "source": [
    "\n",
    "# Initialize Extremely Random Forests classifier \n",
    "classifier = ExtraTreesClassifier(n_estimators=60, max_depth=4)\n"
   ]
  },
  {
   "cell_type": "code",
   "execution_count": null,
   "id": "464814c0",
   "metadata": {},
   "outputs": [],
   "source": [
    "\n",
    "# Construct the pipeline\n",
    "processor_pipeline = Pipeline([('selector', k_best_selector), ('erf', classifier)])\n"
   ]
  },
  {
   "cell_type": "code",
   "execution_count": null,
   "id": "c7aa345d",
   "metadata": {},
   "outputs": [],
   "source": [
    "\n",
    "# Set the parameters\n",
    "processor_pipeline.set_params(selector__k=7, erf__n_estimators=30)\n"
   ]
  },
  {
   "cell_type": "code",
   "execution_count": null,
   "id": "9ff9622f",
   "metadata": {},
   "outputs": [],
   "source": [
    "\n",
    "# Training the pipeline \n",
    "processor_pipeline.fit(X, y)\n"
   ]
  },
  {
   "cell_type": "code",
   "execution_count": null,
   "id": "1c1c84a9",
   "metadata": {},
   "outputs": [],
   "source": [
    "\n",
    "# Predict outputs for the input data\n",
    "output = processor_pipeline.predict(X)\n",
    "print(\"\\nPredicted output:\\n\", output)\n"
   ]
  },
  {
   "cell_type": "code",
   "execution_count": null,
   "id": "83057740",
   "metadata": {},
   "outputs": [],
   "source": [
    "\n",
    "# Print scores \n",
    "print(\"\\nScore:\", processor_pipeline.score(X, y))\n"
   ]
  },
  {
   "cell_type": "code",
   "execution_count": null,
   "id": "98fb7aa0",
   "metadata": {},
   "outputs": [],
   "source": [
    "\n",
    "# Print the features chosen by the pipeline selector\n",
    "status = processor_pipeline.named_steps['selector'].get_support()\n"
   ]
  },
  {
   "cell_type": "code",
   "execution_count": null,
   "id": "033bb8b5",
   "metadata": {},
   "outputs": [],
   "source": [
    "\n",
    "# Extract and print indices of selected features\n",
    "selected = [i for i, x in enumerate(status) if x]\n",
    "print(\"\\nIndices of selected features:\", ', '.join([str(x) for x in selected]))"
   ]
  },
  {
   "cell_type": "code",
   "execution_count": null,
   "id": "39a8db78",
   "metadata": {},
   "outputs": [],
   "source": []
  }
 ],
 "metadata": {
  "kernelspec": {
   "display_name": "aiwp_3129",
   "language": "python",
   "name": "python3"
  },
  "language_info": {
   "codemirror_mode": {
    "name": "ipython",
    "version": 3
   },
   "file_extension": ".py",
   "mimetype": "text/x-python",
   "name": "python",
   "nbconvert_exporter": "python",
   "pygments_lexer": "ipython3",
   "version": "3.12.9"
  }
 },
 "nbformat": 4,
 "nbformat_minor": 5
}
